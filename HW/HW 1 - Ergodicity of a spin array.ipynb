{
 "cells": [
  {
   "cell_type": "code",
   "execution_count": 10,
   "metadata": {},
   "outputs": [],
   "source": [
    "import numpy as np\n",
    "from scipy import stats\n",
    "import matplotlib.pyplot as plt"
   ]
  },
  {
   "cell_type": "markdown",
   "metadata": {},
   "source": [
    "# Ergodicity of a spin array\n",
    "\n",
    "As you saw in class, one way of describing ergodicity is **\"the ability of a system to reach every possible configuration when given enough time\"**.\n",
    "\n",
    "In this exercise you will simulate a basic 1D spin array and will check if the system is ergodic or not.\n"
   ]
  },
  {
   "cell_type": "markdown",
   "metadata": {},
   "source": [
    "## Part 1 - Ensemble Average"
   ]
  },
  {
   "cell_type": "markdown",
   "metadata": {},
   "source": [
    "### Task 1.1 - generate a 1D spin array of size $l$\n",
    "\n",
    "Hint: Use np.random.choice() for the convenience"
   ]
  },
  {
   "cell_type": "code",
   "execution_count": null,
   "metadata": {},
   "outputs": [
    {
     "name": "stdout",
     "output_type": "stream",
     "text": [
      "None\n"
     ]
    }
   ],
   "source": [
    "def generate_spin_array(length):\n",
    "    '''\n",
    "    Description:\n",
    "    This function gets an integer which corresponds to length of the array we want to generate.\n",
    "    Then the function generates a spin array (spin up = +1/2, spin down = -1/2) of the requested length.\n",
    "    The spin array that the function generates should be random.\n",
    "\n",
    "    Inputs:\n",
    "    length - the length of the array \n",
    "    \n",
    "    Outputs: \n",
    "    spin_array - the array of the spins\n",
    "\n",
    "    Example:\n",
    "    input: length = 5\n",
    "    output: spin_array = [-0.5, 0.5, 0.5, -0.5, 0.5]   (The out put may vary as the spins generated are random)\n",
    "    '''\n",
    "    ### Write Your Code Below ###\n",
    "\n",
    "    spins_array = None\n",
    "    return \n",
    "\n",
    "length = 5\n",
    "spins_array = generate_spin_array(length)\n",
    "print(spins_array)"
   ]
  },
  {
   "cell_type": "markdown",
   "metadata": {},
   "source": [
    "### Task 1.2 - generate $N$ 1d arrays of size $l$ and store them in a Matrix\n",
    "\n",
    "Hint: use the function created in task 1.1."
   ]
  },
  {
   "cell_type": "code",
   "execution_count": null,
   "metadata": {},
   "outputs": [
    {
     "name": "stdout",
     "output_type": "stream",
     "text": [
      "None\n"
     ]
    }
   ],
   "source": [
    "def generate_N_1d_arrays(N, length):\n",
    "    '''\n",
    "    Description:\n",
    "    This function gets 2 number which corresponds to length of the array we want to generate and the number of arrays.\n",
    "    Then the function generates N spin arrays of a certain length and stores them in a matrix.\n",
    "    As before, the spin arrays that the function generates should be random.\n",
    "\n",
    "    Inputs:\n",
    "    N - number of arrays to generate\n",
    "    length - the length of the array \n",
    "    \n",
    "    Outputs: \n",
    "    matrix - a matrix that contains all the arrays. Each row is a different array. \n",
    "    ***For convenience return the matrix as a numpy array using the converation np.array(matrix)****\n",
    "\n",
    "    Example:\n",
    "    input: length = 5\n",
    "           N = 3 \n",
    "    output: matrix = [[-0.5  0.5 -0.5 -0.5  0.5]\n",
    "                      [-0.5 -0.5 -0.5  0.5 -0.5]\n",
    "                      [-0.5 -0.5  0.5 -0.5 -0.5]]\n",
    "    '''\n",
    "    ### Write Your Code Below ###\n",
    "    \n",
    "    matrix = None\n",
    "\n",
    "    return\n",
    "\n",
    "length = 6\n",
    "N = 3\n",
    "matrix = generate_N_1d_arrays(N, length)\n",
    "print(matrix)"
   ]
  },
  {
   "cell_type": "markdown",
   "metadata": {},
   "source": [
    "### Task 1.3 - calculate the magnetization of a 1D array"
   ]
  },
  {
   "cell_type": "code",
   "execution_count": null,
   "metadata": {},
   "outputs": [
    {
     "name": "stdout",
     "output_type": "stream",
     "text": [
      "None\n"
     ]
    }
   ],
   "source": [
    "def calculate_total_magnetization(spins_array):\n",
    "    '''\n",
    "    Description:\n",
    "    This function gets a spins array and calculates the magnetization (sum of all spins).\n",
    "\n",
    "    Inputs:\n",
    "    spins_array = 1D array of spins like the one generated in task 1.1\n",
    "    \n",
    "    Outputs: \n",
    "    magnetization - the magnetization of the array\n",
    "\n",
    "    Example:\n",
    "    input: spins_array = [-0.5  0.5 -0.5 -0.5  0.5]\n",
    "    output: magnetization = -0.5\n",
    "    '''\n",
    "    ### Write Your Code Below ###\n",
    "    \n",
    "    magnetization = None\n",
    "    return \n",
    "\n",
    "length = 6\n",
    "spins_array = generate_spin_array(length)\n",
    "magnetization = calculate_total_magnetization(spins_array)\n",
    "print(magnetization)"
   ]
  },
  {
   "cell_type": "markdown",
   "metadata": {},
   "source": [
    "### Task 1.4 - calculate the average magnetization of $N$ 1D spin arrays"
   ]
  },
  {
   "cell_type": "code",
   "execution_count": null,
   "metadata": {},
   "outputs": [
    {
     "name": "stdout",
     "output_type": "stream",
     "text": [
      "None\n"
     ]
    }
   ],
   "source": [
    "def calculate_average_magnetization(spins_matrix):\n",
    "    '''\n",
    "    Description:\n",
    "    This function gets a spins matrix (N arrays of length l) and calculates the average magnetization. (average magnetization per array).\n",
    "\n",
    "    Inputs:\n",
    "    spins_array = 2D array of spins like the one generated in task 1.2\n",
    "    \n",
    "    Outputs: \n",
    "    average magnetization - the average magnetization per array\n",
    "\n",
    "    Example:\n",
    "    input: spins_matrix = [[ 0.5  0.5 -0.5 -0.5  0.5  0.5]\n",
    "                           [-0.5 -0.5 -0.5 -0.5  0.5  0.5]\n",
    "                           [-0.5 -0.5 -0.5  0.5 -0.5 -0.5]]\n",
    "    output: average_magnetization = -0.333\n",
    "    '''\n",
    "    ### Write Your Code Below ###\n",
    "    \n",
    "    average_magnetization = None\n",
    "    return average_magnetization\n",
    "\n",
    "length = 6\n",
    "N = 100\n",
    "spins_matrix = generate_N_1d_arrays(N, length)\n",
    "average_magnetization = calculate_average_magnetization(spins_matrix)\n",
    "print(average_magnetization)"
   ]
  },
  {
   "cell_type": "markdown",
   "metadata": {},
   "source": [
    "### Task 1.5 - plot the average magnetization as a function of N"
   ]
  },
  {
   "cell_type": "code",
   "execution_count": 15,
   "metadata": {},
   "outputs": [],
   "source": [
    "#Set simulation parameters: length, N_max (the maximal ensemble size)\n",
    "\n",
    "#Create a list of all the ensemble sizes (N) from 1 to N_max\n",
    "\n",
    "#Generate arrays for each ensemble size and calculate the average magnetization for each size\n",
    "\n",
    "#Plot the average magnetization as function of the ensemle size, on the same figure plot the mean of all the average magnetization (should be a constant - use plt.axhline())\n"
   ]
  },
  {
   "cell_type": "markdown",
   "metadata": {},
   "source": [
    "### Question - Explain what you see in the plot:"
   ]
  },
  {
   "cell_type": "markdown",
   "metadata": {},
   "source": [
    "## Part 2 - Time Average"
   ]
  },
  {
   "cell_type": "markdown",
   "metadata": {},
   "source": [
    "### Task 2.1 - generate a spin up 1D array of length $l$"
   ]
  },
  {
   "cell_type": "code",
   "execution_count": null,
   "metadata": {},
   "outputs": [
    {
     "name": "stdout",
     "output_type": "stream",
     "text": [
      "None\n"
     ]
    }
   ],
   "source": [
    "def generate_spin_up_array(length):\n",
    "    '''\n",
    "    Description:\n",
    "    This function generates an array of only spin up. This will be used later to create our initial configuration for the time evolution of the system.\n",
    "\n",
    "    Inputs:\n",
    "    length - the length of the generated array\n",
    "    \n",
    "    Outputs: \n",
    "    spins_array - spin up array\n",
    "\n",
    "    Example:\n",
    "    input: length = 6\n",
    "    output: spins_array = [0.5,0.5,0.5,0.5,0.5,0.5]\n",
    "    '''\n",
    "    ### Write Your Code Below ###\n",
    "\n",
    "    spins_array = None\n",
    "    return\n",
    "\n",
    "print(generate_spin_up_array(5))"
   ]
  },
  {
   "cell_type": "markdown",
   "metadata": {},
   "source": [
    "### Task 2.2 - Flip a random spin in the array\n",
    "\n",
    "This is the time evolution of the system.\n",
    "\n",
    "At each step we will flip a spin randomly. Later we will see how does the system evolve in time."
   ]
  },
  {
   "cell_type": "code",
   "execution_count": null,
   "metadata": {},
   "outputs": [
    {
     "name": "stdout",
     "output_type": "stream",
     "text": [
      "None None\n"
     ]
    }
   ],
   "source": [
    "def flip_spin_randomly(array):\n",
    "    '''\n",
    "    Description:\n",
    "    This function flips 1 spin of a given array. This will be used as our simulation step (time evolution).\n",
    "\n",
    "    Inputs:\n",
    "    array - 1D spins array\n",
    "    \n",
    "    Outputs: \n",
    "    array_copy - a copy of the spins array but with 1 randomly fliped spin\n",
    "\n",
    "    Example:\n",
    "    input: array = [-0.5,0.5,-0.5,-0.5,-0.5,0.5]\n",
    "    output: array_copy = [-0.5,0.5,-0.5,-0.5,0.5,0.5]\n",
    "    '''\n",
    "    ### Write Your Code Below ###\n",
    "\n",
    "    array_copy = None\n",
    "    return \n",
    "\n",
    "spins_array = generate_spin_array(5)\n",
    "flipped_array = flip_spin_randomly(spins_array)\n",
    "print(spins_array , flipped_array)"
   ]
  },
  {
   "cell_type": "markdown",
   "metadata": {},
   "source": [
    "### Task 2.3 - Time Evolution \n",
    "\n",
    "Here we will implement the time evolution of the system. \n",
    "\n",
    "The system start at an initial configuration (here we will choose a spin up only array as our initial configuration), for each step of the simulation we will change the system using the function defined in Task 2.2"
   ]
  },
  {
   "cell_type": "code",
   "execution_count": 18,
   "metadata": {},
   "outputs": [],
   "source": [
    "# Set simulation parameters (Time ,unit step and array length i.e time = 100 sec, dt = 1 sec, length = 10)\n",
    "\n",
    "# Calculate the amount of steps\n",
    "\n",
    "#Create an array of all the timesteps of the simulation\n",
    "\n",
    "#Generate the initial configuration\n",
    "\n",
    "#Advance the system in time and for each new configuration calculate and save the magnetization.\n",
    "\n",
    "#Plot the magnetization over time, on the same figure plot the mean in the same way as in Task 1.5"
   ]
  }
 ],
 "metadata": {
  "kernelspec": {
   "display_name": "Python 3",
   "language": "python",
   "name": "python3"
  },
  "language_info": {
   "codemirror_mode": {
    "name": "ipython",
    "version": 3
   },
   "file_extension": ".py",
   "mimetype": "text/x-python",
   "name": "python",
   "nbconvert_exporter": "python",
   "pygments_lexer": "ipython3",
   "version": "3.13.0"
  }
 },
 "nbformat": 4,
 "nbformat_minor": 2
}
