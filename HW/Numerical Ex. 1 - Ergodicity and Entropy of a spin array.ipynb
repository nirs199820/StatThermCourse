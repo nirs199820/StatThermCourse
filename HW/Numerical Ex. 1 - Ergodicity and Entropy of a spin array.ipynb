{
 "cells": [
  {
   "cell_type": "code",
   "execution_count": 10,
   "metadata": {},
   "outputs": [],
   "source": [
    "import numpy as np\n",
    "from scipy import stats\n",
    "import matplotlib.pyplot as plt"
   ]
  },
  {
   "cell_type": "markdown",
   "metadata": {},
   "source": [
    "# Section 1 - Ergodicity of a spin array\n",
    "\n",
    "As you saw in class, one way of describing ergodicity is **\"the ability of a system to reach every possible configuration when given enough time\"**.\n",
    "\n",
    "In this exercise you will simulate a basic 1D spin array and will check if the system is ergodic or not.\n"
   ]
  },
  {
   "cell_type": "markdown",
   "metadata": {},
   "source": [
    "## Part 1 - Ensemble Average"
   ]
  },
  {
   "cell_type": "markdown",
   "metadata": {},
   "source": [
    "### Task 1.1 - generate a 1D spin array of size $l$\n",
    "\n",
    "Hint: Use np.random.choice() for the convenience"
   ]
  },
  {
   "cell_type": "code",
   "execution_count": null,
   "metadata": {},
   "outputs": [
    {
     "name": "stdout",
     "output_type": "stream",
     "text": [
      "None\n"
     ]
    }
   ],
   "source": [
    "def generate_spin_array(length):\n",
    "    '''\n",
    "    Description:\n",
    "    This function gets an integer which corresponds to length of the array we want to generate.\n",
    "    Then the function generates a spin array (spin up = +1/2, spin down = -1/2) of the requested length.\n",
    "    The spin array that the function generates should be random.\n",
    "\n",
    "    Inputs:\n",
    "    length - the length of the array \n",
    "    \n",
    "    Outputs: \n",
    "    spin_array - the array of the spins\n",
    "\n",
    "    Example:\n",
    "    input: length = 5\n",
    "    output: spin_array = [-0.5, 0.5, 0.5, -0.5, 0.5]   (The out put may vary as the spins generated are random)\n",
    "    '''\n",
    "    ### Write Your Code Below ###\n",
    "\n",
    "    spins_array = None\n",
    "    return \n",
    "\n",
    "length = 5\n",
    "spins_array = generate_spin_array(length)\n",
    "print(spins_array)"
   ]
  },
  {
   "cell_type": "markdown",
   "metadata": {},
   "source": [
    "### Task 1.2 - generate $N$ 1d arrays of size $l$ and store them in a Matrix\n",
    "\n",
    "Hint: use the function created in task 1.1."
   ]
  },
  {
   "cell_type": "code",
   "execution_count": null,
   "metadata": {},
   "outputs": [
    {
     "name": "stdout",
     "output_type": "stream",
     "text": [
      "None\n"
     ]
    }
   ],
   "source": [
    "def generate_N_1d_arrays(N, length):\n",
    "    '''\n",
    "    Description:\n",
    "    This function gets 2 number which corresponds to length of the array we want to generate and the number of arrays.\n",
    "    Then the function generates N spin arrays of a certain length and stores them in a matrix.\n",
    "    As before, the spin arrays that the function generates should be random.\n",
    "\n",
    "    Inputs:\n",
    "    N - number of arrays to generate\n",
    "    length - the length of the array \n",
    "    \n",
    "    Outputs: \n",
    "    matrix - a matrix that contains all the arrays. Each row is a different array. \n",
    "    ***For convenience return the matrix as a numpy array using the converation np.array(matrix)****\n",
    "\n",
    "    Example:\n",
    "    input: length = 5\n",
    "           N = 3 \n",
    "    output: matrix = [[-0.5  0.5 -0.5 -0.5  0.5]\n",
    "                      [-0.5 -0.5 -0.5  0.5 -0.5]\n",
    "                      [-0.5 -0.5  0.5 -0.5 -0.5]]\n",
    "    '''\n",
    "    ### Write Your Code Below ###\n",
    "    \n",
    "    matrix = None\n",
    "\n",
    "    return\n",
    "\n",
    "length = 6\n",
    "N = 3\n",
    "matrix = generate_N_1d_arrays(N, length)\n",
    "print(matrix)"
   ]
  },
  {
   "cell_type": "markdown",
   "metadata": {},
   "source": [
    "### Task 1.3 - calculate the magnetization of a 1D array"
   ]
  },
  {
   "cell_type": "code",
   "execution_count": null,
   "metadata": {},
   "outputs": [
    {
     "name": "stdout",
     "output_type": "stream",
     "text": [
      "None\n"
     ]
    }
   ],
   "source": [
    "def calculate_total_magnetization(spins_array):\n",
    "    '''\n",
    "    Description:\n",
    "    This function gets a spins array and calculates the magnetization (sum of all spins).\n",
    "\n",
    "    Inputs:\n",
    "    spins_array = 1D array of spins like the one generated in task 1.1\n",
    "    \n",
    "    Outputs: \n",
    "    magnetization - the magnetization of the array\n",
    "\n",
    "    Example:\n",
    "    input: spins_array = [-0.5  0.5 -0.5 -0.5  0.5]\n",
    "    output: magnetization = -0.5\n",
    "    '''\n",
    "    ### Write Your Code Below ###\n",
    "    \n",
    "    magnetization = None\n",
    "    return \n",
    "\n",
    "length = 6\n",
    "spins_array = generate_spin_array(length)\n",
    "magnetization = calculate_total_magnetization(spins_array)\n",
    "print(magnetization)"
   ]
  },
  {
   "cell_type": "markdown",
   "metadata": {},
   "source": [
    "### Task 1.4 - calculate the average magnetization of $N$ 1D spin arrays"
   ]
  },
  {
   "cell_type": "code",
   "execution_count": null,
   "metadata": {},
   "outputs": [
    {
     "name": "stdout",
     "output_type": "stream",
     "text": [
      "None\n"
     ]
    }
   ],
   "source": [
    "def calculate_average_magnetization(spins_matrix):\n",
    "    '''\n",
    "    Description:\n",
    "    This function gets a spins matrix (N arrays of length l) and calculates the average magnetization. (average magnetization per array).\n",
    "\n",
    "    Inputs:\n",
    "    spins_array = 2D array of spins like the one generated in task 1.2\n",
    "    \n",
    "    Outputs: \n",
    "    average magnetization - the average magnetization per array\n",
    "\n",
    "    Example:\n",
    "    input: spins_matrix = [[ 0.5  0.5 -0.5 -0.5  0.5  0.5]\n",
    "                           [-0.5 -0.5 -0.5 -0.5  0.5  0.5]\n",
    "                           [-0.5 -0.5 -0.5  0.5 -0.5 -0.5]]\n",
    "    output: average_magnetization = -0.333\n",
    "    '''\n",
    "    ### Write Your Code Below ###\n",
    "    \n",
    "    average_magnetization = None\n",
    "    return average_magnetization\n",
    "\n",
    "length = 6\n",
    "N = 100\n",
    "spins_matrix = generate_N_1d_arrays(N, length)\n",
    "average_magnetization = calculate_average_magnetization(spins_matrix)\n",
    "print(average_magnetization)"
   ]
  },
  {
   "cell_type": "markdown",
   "metadata": {},
   "source": [
    "### Task 1.5 - plot the average magnetization as a function of N"
   ]
  },
  {
   "cell_type": "code",
   "execution_count": 15,
   "metadata": {},
   "outputs": [],
   "source": [
    "#Set simulation parameters: length, N_max (the maximal ensemble size)\n",
    "\n",
    "#Create a list of all the ensemble sizes (N) from 1 to N_max\n",
    "\n",
    "#Generate arrays for each ensemble size and calculate the average magnetization for each size\n",
    "\n",
    "#Plot the average magnetization as function of the ensemle size, on the same figure plot the mean of all the average magnetization (should be a constant - use plt.axhline())\n"
   ]
  },
  {
   "cell_type": "markdown",
   "metadata": {},
   "source": [
    "### Question - Explain what you see in the plot:"
   ]
  },
  {
   "cell_type": "markdown",
   "metadata": {},
   "source": [
    "## Part 2 - Time Average"
   ]
  },
  {
   "cell_type": "markdown",
   "metadata": {},
   "source": [
    "### Task 2.1 - generate a spin up 1D array of length $l$"
   ]
  },
  {
   "cell_type": "code",
   "execution_count": null,
   "metadata": {},
   "outputs": [
    {
     "name": "stdout",
     "output_type": "stream",
     "text": [
      "None\n"
     ]
    }
   ],
   "source": [
    "def generate_spin_up_array(length):\n",
    "    '''\n",
    "    Description:\n",
    "    This function generates an array of only spin up. This will be used later to create our initial configuration for the time evolution of the system.\n",
    "\n",
    "    Inputs:\n",
    "    length - the length of the generated array\n",
    "    \n",
    "    Outputs: \n",
    "    spins_array - spin up array\n",
    "\n",
    "    Example:\n",
    "    input: length = 6\n",
    "    output: spins_array = [0.5,0.5,0.5,0.5,0.5,0.5]\n",
    "    '''\n",
    "    ### Write Your Code Below ###\n",
    "\n",
    "    spins_array = None\n",
    "    return\n",
    "\n",
    "print(generate_spin_up_array(5))"
   ]
  },
  {
   "cell_type": "markdown",
   "metadata": {},
   "source": [
    "### Task 2.2 - Flip a random spin in the array\n",
    "\n",
    "This is the time evolution of the system.\n",
    "\n",
    "At each step we will flip a spin randomly. Later we will see how does the system evolve in time."
   ]
  },
  {
   "cell_type": "code",
   "execution_count": null,
   "metadata": {},
   "outputs": [
    {
     "name": "stdout",
     "output_type": "stream",
     "text": [
      "None None\n"
     ]
    }
   ],
   "source": [
    "def flip_spin_randomly(array):\n",
    "    '''\n",
    "    Description:\n",
    "    This function flips 1 spin of a given array with 50 percent chance otherwise it stays the same. This will be used as our simulation step (time evolution).\n",
    "\n",
    "    Inputs:\n",
    "    array - 1D spins array\n",
    "    \n",
    "    Outputs: \n",
    "    array_copy - a copy of the spins array but with 1 randomly fliped spin\n",
    "\n",
    "    Example:\n",
    "    input: array = [-0.5,0.5,-0.5,-0.5,-0.5,0.5]\n",
    "    output: array_copy = [-0.5,0.5,-0.5,-0.5,0.5,0.5]\n",
    "    '''\n",
    "    ### Write Your Code Below ###\n",
    "\n",
    "    array_copy = None\n",
    "    return \n",
    "\n",
    "spins_array = generate_spin_array(5)\n",
    "flipped_array = flip_spin_randomly(spins_array)\n",
    "print(spins_array , flipped_array)"
   ]
  },
  {
   "cell_type": "markdown",
   "metadata": {},
   "source": [
    "### Task 2.3 - Time Evolution \n",
    "\n",
    "Here we will implement the time evolution of the system. \n",
    "\n",
    "The system start at an initial configuration (here we will choose a spin up only array as our initial configuration), for each step of the simulation we will change the system using the function defined in Task 2.2"
   ]
  },
  {
   "cell_type": "code",
   "execution_count": 18,
   "metadata": {},
   "outputs": [],
   "source": [
    "# Set simulation parameters (Time ,unit step and array length i.e time = 100 sec, dt = 1 sec, length = 10)\n",
    "\n",
    "# Calculate the amount of steps\n",
    "\n",
    "#Create an array of all the timesteps of the simulation\n",
    "\n",
    "#Generate the initial configuration\n",
    "\n",
    "#Advance the system in time and for each new configuration calculate and save the magnetization.\n",
    "\n",
    "#Plot the magnetization over time, on the same figure plot the mean in the same way as in Task 1.5"
   ]
  },
  {
   "cell_type": "markdown",
   "metadata": {},
   "source": [
    "### Task 2.4 - Different Initial Conditions\n",
    "\n",
    "Plot the time evolution as you did in task 2.3 but for different initial conditions:\n",
    "\n",
    "a - Spin down\n",
    "\n",
    "b - Random spin array"
   ]
  },
  {
   "cell_type": "markdown",
   "metadata": {},
   "source": [
    "# Section 2 - Entropy of a spin array\n",
    "\n",
    "In this exercise you will examine the change in entropy as the system equillibrate.\n",
    "\n",
    "For performing this analysis we will first need the Magnetization distribution of our system.\n"
   ]
  },
  {
   "cell_type": "markdown",
   "metadata": {},
   "source": [
    "## Part 1 - Magnetization Distribution"
   ]
  },
  {
   "cell_type": "markdown",
   "metadata": {},
   "source": [
    "### Task 1.1 - generate all possible configurations for an array of length $l$\n",
    "\n",
    "Hint: Use a cartesian product via itertools library [itertools.product()] for the convenience"
   ]
  },
  {
   "cell_type": "code",
   "execution_count": null,
   "metadata": {},
   "outputs": [
    {
     "name": "stdout",
     "output_type": "stream",
     "text": [
      "None\n"
     ]
    }
   ],
   "source": [
    "def generate_all_configurations(length):\n",
    "    '''\n",
    "    Description:\n",
    "    This function gets an integer which corresponds to length of the array we want to generate.\n",
    "    Then the function generates all the possible configurations of a spins array.\n",
    "\n",
    "    Inputs:\n",
    "    length - the length of the array \n",
    "    \n",
    "    Outputs: \n",
    "    all_configurations - the array of the spins\n",
    "\n",
    "    Example:\n",
    "    input: length = 2\n",
    "    output: spin_array = [[-0.5 -0.5]\n",
    "                          [-0.5  0.5]\n",
    "                          [ 0.5 -0.5]\n",
    "                          [ 0.5  0.5]]\n",
    "    '''\n",
    "    ### Enter Code Below ###\n",
    "    all_configurations = None\n",
    "    return all_configurations\n",
    "\n",
    "length = 2 ## Don't go higher than length=20\n",
    "all_configurations = generate_all_configurations(length)\n",
    "print(all_configurations)"
   ]
  },
  {
   "cell_type": "markdown",
   "metadata": {},
   "source": [
    "### Task 1.2 - Calculate the magnetization for each possible microstate\n",
    "\n",
    "Hint: use can use the function from HW 1"
   ]
  },
  {
   "cell_type": "code",
   "execution_count": null,
   "metadata": {},
   "outputs": [
    {
     "name": "stdout",
     "output_type": "stream",
     "text": [
      "None\n"
     ]
    }
   ],
   "source": [
    "def calculate_total_magnetization(spins_array):\n",
    "    '''\n",
    "    Description:\n",
    "    This function gets a spins array and calculates the magnetization (sum of all spins).\n",
    "\n",
    "    Inputs:\n",
    "    spins_array = 1D array of spins like the one generated in task 1.1\n",
    "    \n",
    "    Outputs: \n",
    "    magnetization - the magnetization of the array\n",
    "\n",
    "    Example:\n",
    "    input: spins_array = [-0.5  0.5 -0.5 -0.5  0.5]\n",
    "    output: magnetization = -0.5\n",
    "    '''\n",
    "    ### Enter Code Below ###\n",
    "    magnetization = None\n",
    "    return magnetization\n",
    "\n",
    "length = 6\n",
    "specific_array = np.array([-0.5, 0.5 ,-0.5, -0.5, 0.5])\n",
    "magnetization = calculate_total_magnetization(specific_array)\n",
    "print(magnetization)"
   ]
  },
  {
   "cell_type": "markdown",
   "metadata": {},
   "source": [
    "### Task 1.3 - Create a probability density function for the magnetization in the steady state\n",
    "\n",
    "A function that returns the magnetization probability density for an array in steady state (all configurations are equally probable) \n",
    "\n",
    "Plot the pdf"
   ]
  },
  {
   "cell_type": "code",
   "execution_count": null,
   "metadata": {},
   "outputs": [
    {
     "name": "stdout",
     "output_type": "stream",
     "text": [
      "None\n"
     ]
    }
   ],
   "source": [
    "def steady_state_magnetization_pdf(length):\n",
    "    '''\n",
    "    Description:\n",
    "    This function gets a length and return the magnetization probability density afor an array in the given length.\n",
    "    This function return a dictonary that connect the magnetization and the probability in the steady state (all configs are equally probable)\n",
    "\n",
    "    Inputs:\n",
    "    length: The length of the array\n",
    "\n",
    "    Outputs: \n",
    "    pdf - dictonary that connect the magnetization and the probability \n",
    "\n",
    "    Example:\n",
    "    inputs: length = 4\n",
    "\n",
    "    output: pdf = {np.float64(-2.0): np.float64(0.0625),\n",
    "                   np.float64(-1.0): np.float64(0.25),   \n",
    "                   np.float64(0.0): np.float64(0.375),\n",
    "                   np.float64(1.0): np.float64(0.25), \n",
    "                   np.float64(2.0): np.float64(0.0625)}\n",
    "    '''\n",
    "    ### Enter Code Below ###\n",
    "    pdf = None\n",
    "    return pdf\n",
    "\n",
    "length = 10\n",
    "pdf = steady_state_magnetization_pdf(length)\n",
    "print(pdf)\n",
    "\n",
    "### plot the probability distribution of an array of a specified length###\n"
   ]
  },
  {
   "cell_type": "markdown",
   "metadata": {},
   "source": [
    "## Part 2 - Entropy change in system equilibration\n",
    "\n",
    "Now that we got the magnetization pdf we can calculate the Entropy of a configuaration. If we do for each step in time we can see how the Entropy changes. "
   ]
  },
  {
   "cell_type": "markdown",
   "metadata": {},
   "source": [
    "### Task 2.1 - generate a spin up 1D array of length $l$\n",
    "\n",
    "Same as HW1"
   ]
  },
  {
   "cell_type": "code",
   "execution_count": null,
   "metadata": {},
   "outputs": [
    {
     "name": "stdout",
     "output_type": "stream",
     "text": [
      "None\n"
     ]
    }
   ],
   "source": [
    "def generate_spin_up_array(length):\n",
    "    '''\n",
    "    Description:\n",
    "    This function generates an array of only spin up. This will be used later to create our initial configuration for the time evolution of the system.\n",
    "\n",
    "    Inputs:\n",
    "    length - the length of the generated array\n",
    "    \n",
    "    Outputs: \n",
    "    spins_array - spin up array\n",
    "\n",
    "    Example:\n",
    "    input: length = 6\n",
    "    output: spins_array = [0.5,0.5,0.5,0.5,0.5,0.5]\n",
    "    '''\n",
    "    ### Enter Code Below ###\n",
    "    spins_array = None\n",
    "    return spins_array\n",
    "\n",
    "print(generate_spin_up_array(5))"
   ]
  },
  {
   "cell_type": "markdown",
   "metadata": {},
   "source": [
    "### Task 2.2 - generate $N$ 1d spin up arrays of size $l$ and store them in a Matrix\n",
    "\n",
    "Hint: use the function created in task 2.1 and the function from HW 1."
   ]
  },
  {
   "cell_type": "code",
   "execution_count": null,
   "metadata": {},
   "outputs": [
    {
     "name": "stdout",
     "output_type": "stream",
     "text": [
      "[]\n"
     ]
    }
   ],
   "source": [
    "def generate_N_1d_spin_up_arrays(N, length):\n",
    "    '''\n",
    "    Description:\n",
    "    This function gets 2 number which corresponds to length of the array we want to generate and the number of arrays.\n",
    "    Then the function generates N spin up arrays of a certain length and stores them in a matrix.\n",
    "\n",
    "    Inputs:\n",
    "    N - number of arrays to generate\n",
    "    length - the length of the array \n",
    "    \n",
    "    Outputs: \n",
    "    matrix - a matrix that contains all the arrays. Each row is a different array. \n",
    "    ***For convenience return the matrix as a numpy array****\n",
    "\n",
    "    Example:\n",
    "    input: length = 5\n",
    "           N = 3 \n",
    "    output: matrix = [[0.5 0.5 0.5 0.5 0.5]\n",
    "                      [0.5 0.5 0.5 0.5 0.5]\n",
    "                      [0.5 0.5 0.5 0.5 0.5]]\n",
    "    '''\n",
    "    ### Enter Code Below ###\n",
    "    matrix = []\n",
    "    return np.array(matrix)\n",
    "\n",
    "length = 6\n",
    "N = 3\n",
    "matrix = generate_N_1d_spin_up_arrays(N, length)\n",
    "print(matrix)"
   ]
  },
  {
   "cell_type": "markdown",
   "metadata": {},
   "source": [
    "### Task 2.3 - Flip a random spin in the array\n",
    "\n",
    "This is the time evolution for a given array.\n",
    "\n",
    "Same as HW1"
   ]
  },
  {
   "cell_type": "code",
   "execution_count": null,
   "metadata": {},
   "outputs": [
    {
     "name": "stdout",
     "output_type": "stream",
     "text": [
      "None []\n"
     ]
    }
   ],
   "source": [
    "def flip_spin_randomly(array):\n",
    "    '''\n",
    "    Description:\n",
    "    This function flips 1 spin of a given array. This will be used as our simulation step (time evolution).\n",
    "\n",
    "    Inputs:\n",
    "    array - 1D spins array\n",
    "    \n",
    "    Outputs: \n",
    "    array_copy - a copy of the spins array but with 1 randomly fliped spin\n",
    "\n",
    "    Example:\n",
    "    input: array = [-0.5,0.5,-0.5,-0.5,-0.5,0.5]\n",
    "    output: array_copy = [-0.5,0.5,-0.5,-0.5,0.5,0.5]\n",
    "    '''\n",
    "    ### Enter Code Below ###\n",
    "    array_copy = []\n",
    "    return(array_copy)\n",
    "\n",
    "spins_array = generate_spin_up_array(5)\n",
    "flipped_array = flip_spin_randomly(spins_array)\n",
    "print(spins_array , flipped_array)"
   ]
  },
  {
   "cell_type": "markdown",
   "metadata": {},
   "source": [
    "### Task 2.4 - calculate the average magnetization of $N$ 1D spin arrays\n",
    "\n",
    "Same as HW1"
   ]
  },
  {
   "cell_type": "code",
   "execution_count": null,
   "metadata": {},
   "outputs": [
    {
     "name": "stdout",
     "output_type": "stream",
     "text": [
      "None\n"
     ]
    }
   ],
   "source": [
    "def calculate_average_magnetization(spins_matrix):\n",
    "    '''\n",
    "    Description:\n",
    "    This function gets a spins matrix (N arrays of length l) and calculates the average magnetization. (average magnetization per array).\n",
    "\n",
    "    Inputs:\n",
    "    spins_array = 2D array of spins like the one generated in task 1.2\n",
    "    \n",
    "    Outputs: \n",
    "    average magnetization - the average magnetization per array\n",
    "\n",
    "    Example:\n",
    "    input: spins_matrix = [[ 0.5  0.5 -0.5 -0.5  0.5  0.5]\n",
    "                           [-0.5 -0.5 -0.5 -0.5  0.5  0.5]\n",
    "                           [-0.5 -0.5 -0.5  0.5 -0.5 -0.5]]\n",
    "    output: average_magnetization = -0.333\n",
    "    '''\n",
    "    ### Enter Code Below ###\n",
    "    average_magnetization = None\n",
    "    return average_magnetization\n",
    "\n",
    "length = 6\n",
    "N = 100\n",
    "spins_matrix = generate_N_1d_spin_up_arrays(N, length)\n",
    "average_magnetization = calculate_average_magnetization(spins_matrix)\n",
    "print(average_magnetization)"
   ]
  },
  {
   "cell_type": "markdown",
   "metadata": {},
   "source": [
    "### Task 2.5 - Flip a random spin for each array in a spin matrix\n",
    "\n",
    "This is the time evolution for an ensemble."
   ]
  },
  {
   "cell_type": "code",
   "execution_count": null,
   "metadata": {},
   "outputs": [
    {
     "name": "stdout",
     "output_type": "stream",
     "text": [
      "[] \n",
      " []\n"
     ]
    }
   ],
   "source": [
    "def flip_spin_randomly_ensemble(spins_matrix):\n",
    "    '''\n",
    "    Description:\n",
    "    This function with 50% chance flips 1 spin for each array in a given matrix (ensemble). This will be used as our simulation step.\n",
    "\n",
    "    Inputs:\n",
    "    spins_matrix - 1D spins array\n",
    "    \n",
    "    Outputs: \n",
    "    flipped_matrix - a copy of the spins matrix but with 1 randomly fliped spin in each row\n",
    "\n",
    "    Example:\n",
    "    input: spins_matrix = [[0.5 0.5]\n",
    "                           [0.5 0.5]]\n",
    "    output: flipped_matrix = [[-0.5  0.5]\n",
    "                              [ 0.5 -0.5]]\n",
    "    '''\n",
    "    ### Enter Code Below ###\n",
    "    flipped_matrix = []\n",
    "    return(np.array(flipped_matrix))\n",
    "\n",
    "N = 2\n",
    "length = 2\n",
    "spins_matrix = generate_N_1d_spin_up_arrays(N, length)\n",
    "flipped_matrix = flip_spin_randomly_ensemble(spins_matrix)\n",
    "print(spins_matrix ,'\\n' , flipped_matrix)"
   ]
  },
  {
   "cell_type": "markdown",
   "metadata": {},
   "source": [
    "### Task 2.6 - Create Magnetization Probability Density function of an ensemble\n",
    "\n",
    "For a given ensemble of arrays calculate the magnetization for each array and create a Probability Density function (for a given magnetization returns the probability)\n",
    "\n",
    "**This function returns a dictonary that connects between the magnetization and the probability.**\n",
    "\n",
    "Hint: Similar to Task 1.3 but no need to look at all possible comfiguration but the configuration given in the ensemble"
   ]
  },
  {
   "cell_type": "code",
   "execution_count": null,
   "metadata": {},
   "outputs": [
    {
     "name": "stdout",
     "output_type": "stream",
     "text": [
      "None\n"
     ]
    }
   ],
   "source": [
    "def ensemble_magnetization_pdf(ensemble):\n",
    "    '''\n",
    "    Description:\n",
    "    This function gets an ensemble (spins matrix) and returns the pdf (dictonary that connect magnetization and probability).\n",
    "\n",
    "    Inputs:\n",
    "    ensemble: spins matrix\n",
    "\n",
    "    Outputs: \n",
    "    pdf - the magnetization probability density function of the ensemble \n",
    "\n",
    "    Example:\n",
    "    inputs: ensemble = [[-0.5  0.5  0.5  0.5]\n",
    "                        [ 0.5  0.5  0.5  0.5]\n",
    "                        [ 0.5 -0.5  0.5  0.5]\n",
    "                        [ 0.5 -0.5  0.5  0.5]\n",
    "                        [ 0.5  0.5  0.5  0.5]]\n",
    "                        \n",
    "    output: pdf = {np.float64(1.0): np.float64(0.6),\n",
    "                   np.float64(2.0): np.float64(0.4)}\n",
    "    '''\n",
    "    ### Enter Code Below ###\n",
    "    pdf = None\n",
    "    return pdf\n",
    "\n",
    "length = 5\n",
    "N = 3\n",
    "ensemble = generate_N_1d_spin_up_arrays(N, length)\n",
    "pdf = ensemble_magnetization_pdf(ensemble) \n",
    "print(pdf)"
   ]
  },
  {
   "cell_type": "markdown",
   "metadata": {},
   "source": [
    "### Task 2.7 - Calculate the entropy for an ensemble of arrays"
   ]
  },
  {
   "cell_type": "code",
   "execution_count": null,
   "metadata": {},
   "outputs": [
    {
     "name": "stdout",
     "output_type": "stream",
     "text": [
      "None\n"
     ]
    }
   ],
   "source": [
    "def calculate_ensemble_entropy(pdf):\n",
    "    '''\n",
    "    Description:\n",
    "    This function calculates the entropy of a given ensemble based on the magnetization PDF and Shanon Entropy\n",
    "    Hint - Use the Shanon Entropy formula\n",
    "\n",
    "    Inputs:\n",
    "    pdf - magnetization pdf\n",
    "\n",
    "    Outputs: \n",
    "    entropy - the entropy of the system\n",
    "\n",
    "    Example:\n",
    "    input: pdf = {np.float64(0.5): np.float64(0.6666666666666666),\n",
    "                  np.float64(1.5): np.float64(0.3333333333333333)}\n",
    "                \n",
    "    output: entropy = 0.6365141682948128\n",
    "    '''\n",
    "    ### Enter Code Below ###\n",
    "    total_entropy = None\n",
    "    return total_entropy\n",
    "\n",
    "length = 5\n",
    "N = 3\n",
    "ensemble = generate_N_1d_spin_up_arrays(N, length)\n",
    "pdf = ensemble_magnetization_pdf(ensemble) \n",
    "print(calculate_ensemble_entropy(pdf))"
   ]
  },
  {
   "cell_type": "markdown",
   "metadata": {},
   "source": [
    "### Task 2.8 - Ensemble Time Evolution \n",
    "\n",
    "Here we will implement the ensemble time evolution. \n",
    "\n",
    "The system start at an initial configuration (here we will choose a spin up only array as our initial configuration), for each step of the simulation we will change the system using the function defined in Task 2.5\n",
    "\n",
    "In addition plot the magnetization probability density at 4 different timesteps (include beginning and end)\n",
    "\n",
    "Use the function we gave - plot_pdfs - Note that this function gets a list of pdfs and a list of the time that they were taken"
   ]
  },
  {
   "cell_type": "code",
   "execution_count": null,
   "metadata": {},
   "outputs": [],
   "source": [
    "def plot_pdfs(pdfs, times):\n",
    "    fig, ax = plt.subplots(2,2, figsize=(9,6))\n",
    "    plt.subplots_adjust(wspace=0.3, hspace=0.4)  # Adjust spacing here\n",
    "    axs = ax.ravel()\n",
    "    for ax, pdf, time in zip(axs, pdfs, times):\n",
    "        ax.bar(pdf.keys(), pdf.values() ,width=0.5)\n",
    "        ax.set_xlabel('Magnetization')\n",
    "        ax.set_ylabel('Probability')\n",
    "        ax.set_title(f'Magnetization probability distribution @ T={time}',fontsize='8')\n",
    "    fig.suptitle('Pdfs at different times')\n",
    "    plt.show()\n",
    "\n",
    "def plot_magnetization_and_entropy(magnetization_per_time, entropy_per_time, time_array ,length):\n",
    "    fig, ax1 = plt.subplots()\n",
    "\n",
    "    #Plot the magnetization over time and the average magnetization\n",
    "    color = 'tab:red'\n",
    "    ax1.plot(time_array, magnetization_per_time, c=color)\n",
    "    ax1.axhline(np.mean(magnetization_per_time), c='Orange', linestyle='--', label='Mean')\n",
    "    ax1.set_xlabel(\"Time [s]\")\n",
    "    ax1.set_ylabel(\"Magnetization\", c=color)\n",
    "\n",
    "    #Plot the entropy over time and the entropy of the ground state (assume even number of spins)\n",
    "    color = 'tab:blue'\n",
    "    ax2 = ax1.twinx()\n",
    "    ax2.axhline(calculate_ensemble_entropy(steady_state_magnetization_pdf(length)), c='Green', linestyle='--', label='Entropy on Ground State')\n",
    "    ax2.plot(time_array, entropy_per_time,c=color)\n",
    "    ax2.set_ylabel(\"Entropy\",c=color)\n",
    "\n",
    "    fig.suptitle(\"Magnetization and Entropy by Time\")\n",
    "    fig.legend(loc='upper center', bbox_to_anchor=(0.5, -0.001), ncol=2) \n",
    "    plt.show()"
   ]
  },
  {
   "cell_type": "code",
   "execution_count": null,
   "metadata": {},
   "outputs": [
    {
     "ename": "TypeError",
     "evalue": "'NoneType' object is not iterable",
     "output_type": "error",
     "traceback": [
      "\u001b[0;31m---------------------------------------------------------------------------\u001b[0m\n",
      "\u001b[0;31mTypeError\u001b[0m                                 Traceback (most recent call last)\n",
      "Cell \u001b[0;32mIn[18], line 21\u001b[0m\n",
      "\u001b[1;32m     19\u001b[0m pdfs \u001b[38;5;241m=\u001b[39m []\n",
      "\u001b[1;32m     20\u001b[0m times \u001b[38;5;241m=\u001b[39m []\n",
      "\u001b[0;32m---> 21\u001b[0m \u001b[38;5;28;43;01mfor\u001b[39;49;00m\u001b[43m \u001b[49m\u001b[43mt\u001b[49m\u001b[43m \u001b[49m\u001b[38;5;129;43;01min\u001b[39;49;00m\u001b[43m \u001b[49m\u001b[43mtime_array\u001b[49m\u001b[43m:\u001b[49m\n",
      "\u001b[1;32m     22\u001b[0m \u001b[43m    \u001b[49m\u001b[38;5;28;43;01mcontinue\u001b[39;49;00m\n",
      "\u001b[1;32m     24\u001b[0m \u001b[38;5;66;03m#Plot using given functions\u001b[39;00m\n",
      "\n",
      "\u001b[0;31mTypeError\u001b[0m: 'NoneType' object is not iterable"
     ]
    }
   ],
   "source": [
    "# Set simulation parameters (Time ,unit step and array length i.e time = 100 sec, dt = 1 sec, length = 10, N=100 ...)\n",
    "simulation_time = 200\n",
    "dt = 0.1\n",
    "length = 10\n",
    "N = 100\n",
    "\n",
    "# Calculate the amount of steps\n",
    "steps = None\n",
    "\n",
    "#Create an array of all the timesteps of the simulation\n",
    "time_array = None\n",
    "\n",
    "#Generate the initial ensemble (N 1d spin up arrays)\n",
    "spins_matrix = None\n",
    "\n",
    "#Advance the system in time and for each new configuration calculate and save the magnetization and entropy.\n",
    "magnetization_per_time = []\n",
    "entropy_per_time = []\n",
    "pdfs = []\n",
    "times = []\n",
    "for t in time_array:\n",
    "    continue\n",
    "\n",
    "#Plot using given functions\n",
    "plot_pdfs(pdfs, times)\n",
    "plot_magnetization_and_entropy(magnetization_per_time, entropy_per_time, dt*time_array, length)\n",
    "\n"
   ]
  }
 ],
 "metadata": {
  "kernelspec": {
   "display_name": "Python 3",
   "language": "python",
   "name": "python3"
  },
  "language_info": {
   "codemirror_mode": {
    "name": "ipython",
    "version": 3
   },
   "file_extension": ".py",
   "mimetype": "text/x-python",
   "name": "python",
   "nbconvert_exporter": "python",
   "pygments_lexer": "ipython3",
   "version": "3.13.0"
  }
 },
 "nbformat": 4,
 "nbformat_minor": 2
}
