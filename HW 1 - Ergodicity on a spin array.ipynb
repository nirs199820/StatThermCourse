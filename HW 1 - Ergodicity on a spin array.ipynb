{
 "cells": [
  {
   "cell_type": "code",
   "execution_count": 145,
   "metadata": {},
   "outputs": [],
   "source": [
    "import numpy as np\n",
    "from scipy import stats\n",
    "import matplotlib.pyplot as plt"
   ]
  },
  {
   "cell_type": "markdown",
   "metadata": {},
   "source": [
    "# Ergodicity of a spin array\n",
    "\n",
    "As you saw in class, one way of describing ergodicity is **\"the ability of a system to reach every possible configuration when given enough time\"**.\n",
    "\n",
    "In this exercise you will simulate a basic 1D spin array and will check if the system is ergodic or not.\n"
   ]
  },
  {
   "cell_type": "markdown",
   "metadata": {},
   "source": [
    "## Part 1 - Ensemble Average"
   ]
  },
  {
   "cell_type": "markdown",
   "metadata": {},
   "source": [
    "### Task 1.1 - generate a 1D spin array of size $l$\n",
    "\n",
    "Hint: Use np.random.choice() for the convenience"
   ]
  },
  {
   "cell_type": "code",
   "execution_count": 159,
   "metadata": {},
   "outputs": [
    {
     "name": "stdout",
     "output_type": "stream",
     "text": [
      "[-0.5  0.5  0.5 -0.5 -0.5]\n"
     ]
    }
   ],
   "source": [
    "def generate_spin_array(length):\n",
    "    '''\n",
    "    Description:\n",
    "    This function gets an integer which corresponds to length of the array we want to generate.\n",
    "    Then the function generates a spin array (spin up = +1/2, spin down = -1/2) of the requested length.\n",
    "    The spin array that the function generates should be random.\n",
    "\n",
    "    Inputs:\n",
    "    length - the length of the array \n",
    "    \n",
    "    Outputs: \n",
    "    spin_array - the array of the spins\n",
    "\n",
    "    Example:\n",
    "    input: length = 5\n",
    "    output: spin_array = [-0.5, 0.5, 0.5, -0.5, 0.5]   (The out put may vary as the spins generated are random)\n",
    "    '''\n",
    "    spins = [-1/2,1/2]\n",
    "    spin_array = np.random.choice(spins, length)\n",
    "    return spin_array\n",
    "\n",
    "length = 5\n",
    "spins_array = generate_spin_array(length)\n",
    "print(spins_array)"
   ]
  },
  {
   "cell_type": "markdown",
   "metadata": {},
   "source": [
    "### Task 1.2 - generate $N$ 1d arrays of size $l$ and store them in a Matrix\n",
    "\n",
    "Hint: use the function created in task 1.1."
   ]
  },
  {
   "cell_type": "code",
   "execution_count": 160,
   "metadata": {},
   "outputs": [
    {
     "name": "stdout",
     "output_type": "stream",
     "text": [
      "[[ 0.5 -0.5 -0.5  0.5  0.5  0.5]\n",
      " [ 0.5 -0.5 -0.5 -0.5 -0.5 -0.5]\n",
      " [ 0.5  0.5  0.5 -0.5  0.5 -0.5]]\n"
     ]
    }
   ],
   "source": [
    "def generate_N_1d_arrays(N, length):\n",
    "    '''\n",
    "    Description:\n",
    "    This function gets 2 number which corresponds to length of the array we want to generate and the number of arrays.\n",
    "    Then the function generates N spin arrays of a certain length and stores them in a matrix.\n",
    "    As before, the spin arrays that the function generates should be random.\n",
    "\n",
    "    Inputs:\n",
    "    N - number of arrays to generate\n",
    "    length - the length of the array \n",
    "    \n",
    "    Outputs: \n",
    "    matrix - a matrix that contains all the arrays. Each row is a different array. \n",
    "    ***For convenience return the matrix as a numpy array****\n",
    "\n",
    "    Example:\n",
    "    input: length = 5\n",
    "           N = 3 \n",
    "    output: matrix = [[-0.5  0.5 -0.5 -0.5  0.5]\n",
    "                      [-0.5 -0.5 -0.5  0.5 -0.5]\n",
    "                      [-0.5 -0.5  0.5 -0.5 -0.5]]\n",
    "    '''\n",
    "    matrix = []\n",
    "    for i in range(N):\n",
    "        spins_array = generate_spin_array(length)\n",
    "        matrix.append(spins_array)\n",
    "    return np.array(matrix)\n",
    "\n",
    "length = 6\n",
    "N = 3\n",
    "matrix = generate_N_1d_arrays(N, length)\n",
    "print(matrix)"
   ]
  },
  {
   "cell_type": "markdown",
   "metadata": {},
   "source": [
    "### Task 1.3 - calculate the magnetization of a 1D array"
   ]
  },
  {
   "cell_type": "code",
   "execution_count": null,
   "metadata": {},
   "outputs": [
    {
     "name": "stdout",
     "output_type": "stream",
     "text": [
      "3.0\n"
     ]
    }
   ],
   "source": [
    "def calculate_total_magnetization(spins_array):\n",
    "    '''\n",
    "    Description:\n",
    "    This function gets a spins array and calculates the magnetization (sum of all spins).\n",
    "\n",
    "    Inputs:\n",
    "    spins_array = 1D array of spins like the one generated in task 1.1\n",
    "    \n",
    "    Outputs: \n",
    "    magnetization - the magnetization of the array\n",
    "\n",
    "    Example:\n",
    "    input: spins_array = [-0.5  0.5 -0.5 -0.5  0.5]\n",
    "    output: magnetization = -0.5\n",
    "    '''\n",
    "    magnetization = np.sum(spins_array)\n",
    "    return magnetization\n",
    "\n",
    "length = 6\n",
    "spins_array = generate_spin_array(length)\n",
    "magnetization = calculate_total_magnetization(spins_array)\n",
    "print(magnetization)"
   ]
  },
  {
   "cell_type": "markdown",
   "metadata": {},
   "source": [
    "### Task 1.4 - calculate the average magnetization of $N$ 1D spin arrays"
   ]
  },
  {
   "cell_type": "code",
   "execution_count": null,
   "metadata": {},
   "outputs": [
    {
     "name": "stdout",
     "output_type": "stream",
     "text": [
      "0.08\n"
     ]
    }
   ],
   "source": [
    "def calculate_average_magnetization(spins_matrix):\n",
    "    '''\n",
    "    Description:\n",
    "    This function gets a spins matrix (N arrays of length l) and calculates the average magnetization. (average magnetization per array).\n",
    "\n",
    "    Inputs:\n",
    "    spins_array = 2D array of spins like the one generated in task 1.2\n",
    "    \n",
    "    Outputs: \n",
    "    average magnetization - the average magnetization per array\n",
    "\n",
    "    Example:\n",
    "    input: spins_matrix = [[ 0.5  0.5 -0.5 -0.5  0.5  0.5]\n",
    "                           [-0.5 -0.5 -0.5 -0.5  0.5  0.5]\n",
    "                           [-0.5 -0.5 -0.5  0.5 -0.5 -0.5]]\n",
    "    output: average_magnetization = -0.333\n",
    "    '''\n",
    "    magnetizations = np.sum(spins_matrix, axis=1)\n",
    "    average_magnetization = np.mean(magnetizations)\n",
    "    return average_magnetization\n",
    "\n",
    "length = 6\n",
    "N = 100\n",
    "spins_matrix = generate_N_1d_arrays(N, length)\n",
    "average_magnetization = calculate_average_magnetization(spins_matrix)\n",
    "print(average_magnetization)"
   ]
  },
  {
   "cell_type": "markdown",
   "metadata": {},
   "source": [
    "### Task 1.5 - plot the average magnetization as a function of N"
   ]
  },
  {
   "cell_type": "code",
   "execution_count": 163,
   "metadata": {},
   "outputs": [
    {
     "data": {
      "image/png": "[encoded data removed]",
      "text/plain": [
       "<Figure size 640x480 with 1 Axes>"
      ]
     },
     "metadata": {},
     "output_type": "display_data"
    }
   ],
   "source": [
    "length = 50\n",
    "N_min = 1\n",
    "N_max = 300\n",
    "N_range = np.linspace(N_min, N_max, N_max)\n",
    "magnetization_dict = {}\n",
    "for n in N_range:\n",
    "    matrix = generate_N_1d_arrays(int(n), length)\n",
    "    magnetization = calculate_average_magnetization(matrix)\n",
    "    magnetization_dict[n] = magnetization\n",
    "plt.plot(magnetization_dict.keys(), magnetization_dict.values())\n",
    "plt.title('Average magnetization by ensamble size')\n",
    "plt.xlabel('N - number of arrays')\n",
    "plt.ylabel('Average Magnetization')\n",
    "plt.show()"
   ]
  },
  {
   "cell_type": "markdown",
   "metadata": {},
   "source": [
    "### Question - Explain what you see in the plot:"
   ]
  },
  {
   "cell_type": "markdown",
   "metadata": {},
   "source": [
    "## Part 2 - Time Average"
   ]
  },
  {
   "cell_type": "markdown",
   "metadata": {},
   "source": [
    "### Task 2.1 - generate a spin up 1D array of length $l$"
   ]
  },
  {
   "cell_type": "code",
   "execution_count": null,
   "metadata": {},
   "outputs": [
    {
     "name": "stdout",
     "output_type": "stream",
     "text": [
      "[1 1 1 1 1]\n"
     ]
    }
   ],
   "source": [
    "def generate_spin_up_array(length):\n",
    "    return np.array([1]*length)\n",
    "\n",
    "print(generate_spin_up_array(5))"
   ]
  },
  {
   "cell_type": "code",
   "execution_count": 251,
   "metadata": {},
   "outputs": [
    {
     "name": "stdout",
     "output_type": "stream",
     "text": [
      "[ 0.5  0.5  0.5 -0.5  0.5] [ 0.5  0.5  0.5 -0.5 -0.5]\n"
     ]
    }
   ],
   "source": [
    "def flip_spin_randomly(array):\n",
    "    array_copy = np.copy(array)\n",
    "    index = np.random.choice(range(len(array_copy)), 1)[0]\n",
    "    array_copy[index] = -1*array_copy[index]\n",
    "    return(array_copy)\n",
    "\n",
    "spins_array = generate_spin_array(5)\n",
    "flipped_array = flip_spin_randomly(spins_array)\n",
    "print(spins_array , flipped_array)"
   ]
  }
 ],
 "metadata": {
  "kernelspec": {
   "display_name": "Python 3",
   "language": "python",
   "name": "python3"
  },
  "language_info": {
   "codemirror_mode": {
    "name": "ipython",
    "version": 3
   },
   "file_extension": ".py",
   "mimetype": "text/x-python",
   "name": "python",
   "nbconvert_exporter": "python",
   "pygments_lexer": "ipython3",
   "version": "3.13.0"
  }
 },
 "nbformat": 4,
 "nbformat_minor": 2
}
