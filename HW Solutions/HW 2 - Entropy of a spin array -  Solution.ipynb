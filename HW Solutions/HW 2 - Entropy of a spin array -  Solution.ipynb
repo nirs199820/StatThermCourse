{
 "cells": [
  {
   "cell_type": "code",
   "execution_count": 2,
   "metadata": {},
   "outputs": [],
   "source": [
    "import numpy as np\n",
    "from scipy import stats\n",
    "import matplotlib.pyplot as plt\n",
    "from itertools import product"
   ]
  },
  {
   "cell_type": "markdown",
   "metadata": {},
   "source": [
    "# Entropy of a spin array\n",
    "\n",
    "In this exercise you will examine the change in entropy as the system equillibrate.\n",
    "\n",
    "For performing this analysis we will first need the Magnetization distribution of our system.\n"
   ]
  },
  {
   "cell_type": "markdown",
   "metadata": {},
   "source": [
    "## Part 1 - Magnetization Distribution"
   ]
  },
  {
   "cell_type": "markdown",
   "metadata": {},
   "source": [
    "### Task 1.1 - generate all possible configurations for an array of length $l$\n",
    "\n",
    "Hint: Use a cartesian product via itertools library [itertools.product()] for the convenience"
   ]
  },
  {
   "cell_type": "code",
   "execution_count": 3,
   "metadata": {},
   "outputs": [
    {
     "name": "stdout",
     "output_type": "stream",
     "text": [
      "[[-0.5 -0.5]\n",
      " [-0.5  0.5]\n",
      " [ 0.5 -0.5]\n",
      " [ 0.5  0.5]]\n"
     ]
    }
   ],
   "source": [
    "def generate_all_configurations(length):\n",
    "    '''\n",
    "    Description:\n",
    "    This function gets an integer which corresponds to length of the array we want to generate.\n",
    "    Then the function generates all the possible configurations of a spins array.\n",
    "\n",
    "    Inputs:\n",
    "    length - the length of the array \n",
    "    \n",
    "    Outputs: \n",
    "    all_configurations - the array of the spins\n",
    "\n",
    "    Example:\n",
    "    input: length = 2\n",
    "    output: spin_array = [[-0.5 -0.5]\n",
    "                          [-0.5  0.5]\n",
    "                          [ 0.5 -0.5]\n",
    "                          [ 0.5  0.5]]\n",
    "    '''\n",
    "    spins = [-1/2,1/2]\n",
    "    all_configurations = np.array(list(product(spins, repeat=length)))\n",
    "    return all_configurations\n",
    "\n",
    "length = 2 ## Don't go higher than length=20\n",
    "all_configurations = generate_all_configurations(length)\n",
    "print(all_configurations)"
   ]
  },
  {
   "cell_type": "markdown",
   "metadata": {},
   "source": [
    "### Task 1.2 - Calculate the magnetization for each possible microstate\n",
    "\n",
    "Hint: use can use the function from HW 1"
   ]
  },
  {
   "cell_type": "code",
   "execution_count": 4,
   "metadata": {},
   "outputs": [
    {
     "name": "stdout",
     "output_type": "stream",
     "text": [
      "-3.0\n"
     ]
    }
   ],
   "source": [
    "def calculate_total_magnetization(spins_array):\n",
    "    '''\n",
    "    Description:\n",
    "    This function gets a spins array and calculates the magnetization (sum of all spins).\n",
    "\n",
    "    Inputs:\n",
    "    spins_array = 1D array of spins like the one generated in task 1.1\n",
    "    \n",
    "    Outputs: \n",
    "    magnetization - the magnetization of the array\n",
    "\n",
    "    Example:\n",
    "    input: spins_array = [-0.5  0.5 -0.5 -0.5  0.5]\n",
    "    output: magnetization = -0.5\n",
    "    '''\n",
    "    magnetization = np.sum(spins_array)\n",
    "    return magnetization\n",
    "\n",
    "length = 6\n",
    "all_configuations = generate_all_configurations(length)\n",
    "specific_array = all_configuations[0]\n",
    "magnetization = calculate_total_magnetization(specific_array)\n",
    "print(magnetization)"
   ]
  },
  {
   "cell_type": "markdown",
   "metadata": {},
   "source": [
    "### Task 1.3 - Create a probability density function for the magnetization\n",
    "\n",
    "A function that returns the probability for a magnetization in a length of an array \n",
    "\n",
    "Plot the pdf"
   ]
  },
  {
   "cell_type": "code",
   "execution_count": 5,
   "metadata": {},
   "outputs": [
    {
     "name": "stdout",
     "output_type": "stream",
     "text": [
      "0.205078125\n"
     ]
    },
    {
     "data": {
      "image/png": "[encoded data removed]",
      "text/plain": [
       "<Figure size 640x480 with 1 Axes>"
      ]
     },
     "metadata": {},
     "output_type": "display_data"
    }
   ],
   "source": [
    "def magnetization_pdf(magnetization, length):\n",
    "    '''\n",
    "    Description:\n",
    "    This function gets magnatization and a length and return the probability for an array in the given length to have the magnetization specified.\n",
    "\n",
    "    Inputs:\n",
    "    magnetization: the magnetization of the array\n",
    "    length: The length of the array\n",
    "\n",
    "    Outputs: \n",
    "    probability - the probability for an array on size \"length\" to have the magnetization specified \n",
    "\n",
    "    Example:\n",
    "    inputs: magnetization = 1\n",
    "            length = 10\n",
    "    output: probability = 0.205078125\n",
    "    '''\n",
    "    all_configuations = generate_all_configurations(length)\n",
    "    magnetizations = []\n",
    "    for config in all_configuations:\n",
    "        m = calculate_total_magnetization(config)\n",
    "        magnetizations.append(m)\n",
    "    total_magnetizations = len(magnetizations)\n",
    "    magnetization_values, counts = np.unique_counts(magnetizations)\n",
    "    magnetization_values = magnetization_values.tolist()\n",
    "    if magnetization in magnetization_values:\n",
    "        index = magnetization_values.index(magnetization)\n",
    "    else:\n",
    "        return 0\n",
    "    probability = counts[index]/total_magnetizations\n",
    "    return probability\n",
    "\n",
    "length = 10\n",
    "magnetization = 1\n",
    "probability = magnetization_pdf(magnetization, length)\n",
    "print(probability)\n",
    "\n",
    "### plot the probability distribution of an array of a specified length###\n",
    "m_range = np.arange(-3,3.5, step=0.5)\n",
    "magnetizations_prob = [magnetization_pdf(m, length) for m in m_range]\n",
    "plt.bar(m_range, magnetizations_prob ,width=0.6)\n",
    "plt.title('Magnetization probability distribution')\n",
    "plt.xlabel('Magnetization')\n",
    "plt.ylabel('Probability')\n",
    "plt.show()"
   ]
  },
  {
   "cell_type": "markdown",
   "metadata": {},
   "source": [
    "## Part 2 - Entropy change in system equilibration\n",
    "\n",
    "Now that we got the magnetization pdf we can calculate the Entropy of a configuaration. If we do for each step in time we can see how the Entropy changes. "
   ]
  },
  {
   "cell_type": "markdown",
   "metadata": {},
   "source": [
    "### Task 2.1 - generate a spin up 1D array of length $l$\n",
    "\n",
    "Same as HW1"
   ]
  },
  {
   "cell_type": "code",
   "execution_count": 6,
   "metadata": {},
   "outputs": [
    {
     "name": "stdout",
     "output_type": "stream",
     "text": [
      "[0.5 0.5 0.5 0.5 0.5]\n"
     ]
    }
   ],
   "source": [
    "def generate_spin_up_array(length):\n",
    "    '''\n",
    "    Description:\n",
    "    This function generates an array of only spin up. This will be used later to create our initial configuration for the time evolution of the system.\n",
    "\n",
    "    Inputs:\n",
    "    length - the length of the generated array\n",
    "    \n",
    "    Outputs: \n",
    "    spins_array - spin up array\n",
    "\n",
    "    Example:\n",
    "    input: length = 6\n",
    "    output: spins_array = [0.5,0.5,0.5,0.5,0.5,0.5]\n",
    "    '''\n",
    "    spins_array = np.array([0.5]*length)\n",
    "    return spins_array\n",
    "\n",
    "print(generate_spin_up_array(5))"
   ]
  },
  {
   "cell_type": "markdown",
   "metadata": {},
   "source": [
    "### Task 2.2 - generate $N$ 1d spin up arrays of size $l$ and store them in a Matrix\n",
    "\n",
    "Hint: use the function created in task 2.1 and the function from HW 1."
   ]
  },
  {
   "cell_type": "code",
   "execution_count": 7,
   "metadata": {},
   "outputs": [
    {
     "name": "stdout",
     "output_type": "stream",
     "text": [
      "[[0.5 0.5 0.5 0.5 0.5 0.5]\n",
      " [0.5 0.5 0.5 0.5 0.5 0.5]\n",
      " [0.5 0.5 0.5 0.5 0.5 0.5]]\n"
     ]
    }
   ],
   "source": [
    "def generate_N_1d_spin_up_arrays(N, length):\n",
    "    '''\n",
    "    Description:\n",
    "    This function gets 2 number which corresponds to length of the array we want to generate and the number of arrays.\n",
    "    Then the function generates N spin up arrays of a certain length and stores them in a matrix.\n",
    "\n",
    "    Inputs:\n",
    "    N - number of arrays to generate\n",
    "    length - the length of the array \n",
    "    \n",
    "    Outputs: \n",
    "    matrix - a matrix that contains all the arrays. Each row is a different array. \n",
    "    ***For convenience return the matrix as a numpy array****\n",
    "\n",
    "    Example:\n",
    "    input: length = 5\n",
    "           N = 3 \n",
    "    output: matrix = [[0.5 0.5 0.5 0.5 0.5]\n",
    "                      [0.5 0.5 0.5 0.5 0.5]\n",
    "                      [0.5 0.5 0.5 0.5 0.5]]\n",
    "    '''\n",
    "    matrix = []\n",
    "    for _ in range(N):\n",
    "        spins_array = generate_spin_up_array(length)\n",
    "        matrix.append(spins_array)\n",
    "    return np.array(matrix)\n",
    "\n",
    "length = 6\n",
    "N = 3\n",
    "matrix = generate_N_1d_spin_up_arrays(N, length)\n",
    "print(matrix)"
   ]
  },
  {
   "cell_type": "markdown",
   "metadata": {},
   "source": [
    "### Task 2.3 - Flip a random spin in the array\n",
    "\n",
    "This is the time evolution for a given array.\n",
    "\n",
    "Same as HW1"
   ]
  },
  {
   "cell_type": "code",
   "execution_count": 8,
   "metadata": {},
   "outputs": [
    {
     "name": "stdout",
     "output_type": "stream",
     "text": [
      "[0.5 0.5 0.5 0.5 0.5] [ 0.5 -0.5  0.5  0.5  0.5]\n"
     ]
    }
   ],
   "source": [
    "def flip_spin_randomly(array):\n",
    "    '''\n",
    "    Description:\n",
    "    This function flips 1 spin of a given array. This will be used as our simulation step (time evolution).\n",
    "\n",
    "    Inputs:\n",
    "    array - 1D spins array\n",
    "    \n",
    "    Outputs: \n",
    "    array_copy - a copy of the spins array but with 1 randomly fliped spin\n",
    "\n",
    "    Example:\n",
    "    input: array = [-0.5,0.5,-0.5,-0.5,-0.5,0.5]\n",
    "    output: array_copy = [-0.5,0.5,-0.5,-0.5,0.5,0.5]\n",
    "    '''\n",
    "    array_copy = np.copy(array)\n",
    "    index = np.random.choice(range(len(array_copy)), 1)[0]\n",
    "    array_copy[index] = -1*array_copy[index]\n",
    "    return(array_copy)\n",
    "\n",
    "spins_array = generate_spin_up_array(5)\n",
    "flipped_array = flip_spin_randomly(spins_array)\n",
    "print(spins_array , flipped_array)"
   ]
  },
  {
   "cell_type": "markdown",
   "metadata": {},
   "source": [
    "### Task 2.4 - calculate the average magnetization of $N$ 1D spin arrays\n",
    "\n",
    "Same as HW1"
   ]
  },
  {
   "cell_type": "code",
   "execution_count": 9,
   "metadata": {},
   "outputs": [
    {
     "name": "stdout",
     "output_type": "stream",
     "text": [
      "3.0\n"
     ]
    }
   ],
   "source": [
    "def calculate_average_magnetization(spins_matrix):\n",
    "    '''\n",
    "    Description:\n",
    "    This function gets a spins matrix (N arrays of length l) and calculates the average magnetization. (average magnetization per array).\n",
    "\n",
    "    Inputs:\n",
    "    spins_array = 2D array of spins like the one generated in task 1.2\n",
    "    \n",
    "    Outputs: \n",
    "    average magnetization - the average magnetization per array\n",
    "\n",
    "    Example:\n",
    "    input: spins_matrix = [[ 0.5  0.5 -0.5 -0.5  0.5  0.5]\n",
    "                           [-0.5 -0.5 -0.5 -0.5  0.5  0.5]\n",
    "                           [-0.5 -0.5 -0.5  0.5 -0.5 -0.5]]\n",
    "    output: average_magnetization = -0.333\n",
    "    '''\n",
    "    magnetizations = np.sum(spins_matrix, axis=1)\n",
    "    average_magnetization = np.mean(magnetizations)\n",
    "    return average_magnetization\n",
    "\n",
    "length = 6\n",
    "N = 100\n",
    "spins_matrix = generate_N_1d_spin_up_arrays(N, length)\n",
    "average_magnetization = calculate_average_magnetization(spins_matrix)\n",
    "print(average_magnetization)"
   ]
  },
  {
   "cell_type": "markdown",
   "metadata": {},
   "source": [
    "### Task 2.5 - Flip a random spin for each array in a spin matrix\n",
    "\n",
    "This is the time evolution for an ensemble."
   ]
  },
  {
   "cell_type": "code",
   "execution_count": 10,
   "metadata": {},
   "outputs": [
    {
     "name": "stdout",
     "output_type": "stream",
     "text": [
      "[[0.5 0.5]\n",
      " [0.5 0.5]] \n",
      " [[-0.5  0.5]\n",
      " [-0.5  0.5]]\n"
     ]
    }
   ],
   "source": [
    "def flip_spin_randomly_ensemble(spins_matrix):\n",
    "    '''\n",
    "    Description:\n",
    "    This function flips 1 spin for each array in a given matrix (ensemble). This will be used as our simulation step.\n",
    "\n",
    "    Inputs:\n",
    "    spins_matrix - 1D spins array\n",
    "    \n",
    "    Outputs: \n",
    "    flipped_matrix - a copy of the spins matrix but with 1 randomly fliped spin in each row\n",
    "\n",
    "    Example:\n",
    "    input: spins_matrix = [[0.5 0.5]\n",
    "                           [0.5 0.5]]\n",
    "    output: flipped_matrix = [[-0.5  0.5]\n",
    "                              [ 0.5 -0.5]]\n",
    "    '''\n",
    "    flipped_matrix = []\n",
    "    spins_matrix_copy = np.copy(spins_matrix)\n",
    "    for array in spins_matrix_copy:\n",
    "        index = np.random.choice(range(len(array)), 1)[0]\n",
    "        array[index] = -1*array[index]\n",
    "        flipped_matrix.append(array)\n",
    "    return(np.array(flipped_matrix))\n",
    "\n",
    "N = 2\n",
    "length = 2\n",
    "spins_matrix = generate_N_1d_spin_up_arrays(N, length)\n",
    "flipped_matrix = flip_spin_randomly_ensemble(spins_matrix)\n",
    "print(spins_matrix ,'\\n' , flipped_matrix)"
   ]
  },
  {
   "cell_type": "markdown",
   "metadata": {},
   "source": [
    "### Task 2.6 - Calculate the entropy of a given microstate based on its magnetization"
   ]
  },
  {
   "cell_type": "code",
   "execution_count": 11,
   "metadata": {},
   "outputs": [
    {
     "name": "stdout",
     "output_type": "stream",
     "text": [
      "0.13732072188702246\n"
     ]
    }
   ],
   "source": [
    "def calculate_microstate_entropy(magnetization, length):\n",
    "    '''\n",
    "    Description:\n",
    "    This function calculates the entropy of a given microstates, the microstate parameters given are the magnetization and length.\n",
    "    Hint - Use the Shanon Entropy formula\n",
    "\n",
    "    Inputs:\n",
    "    magnetization - magnetization of the spins array\n",
    "    length - length of the spins array\n",
    "\n",
    "    Outputs: \n",
    "    entropy - the entropy of the system\n",
    "\n",
    "    Example:\n",
    "    input: magnetization = 3\n",
    "           length = 3\n",
    "    output: entropy = 0.13732072188702246\n",
    "    '''\n",
    "    probability = magnetization_pdf(magnetization, length)\n",
    "    if probability == 0:\n",
    "        return 0\n",
    "    entropy = -probability*np.log(probability)\n",
    "    return entropy\n",
    "\n",
    "length = 10\n",
    "magnetization = 3\n",
    "entropy = calculate_microstate_entropy(magnetization, length) \n",
    "print(entropy)"
   ]
  },
  {
   "cell_type": "markdown",
   "metadata": {},
   "source": [
    "### Task 2.7 - Calculate the entropy for an ensemble of arrays"
   ]
  },
  {
   "cell_type": "code",
   "execution_count": 12,
   "metadata": {},
   "outputs": [
    {
     "name": "stdout",
     "output_type": "stream",
     "text": [
      "[[0.5 0.5]\n",
      " [0.5 0.5]]\n",
      "0.6931471805599453\n"
     ]
    }
   ],
   "source": [
    "def calculate_ensemble_entropy(ensemble):\n",
    "    '''\n",
    "    Description:\n",
    "    This function calculates the entropy of a given ensemble.\n",
    "    Hint - Use the formula from Task 2.6\n",
    "\n",
    "    Inputs:\n",
    "    ensemble - spins array matrix\n",
    "\n",
    "    Outputs: \n",
    "    entropy - the entropy of the system\n",
    "\n",
    "    Example:\n",
    "    input: ensemble = [[0.5 0.5]\n",
    "                       [0.5 0.5]]\n",
    "    output: entropy = 0.6931471805599453\n",
    "    '''\n",
    "    total_entropy = 0\n",
    "    for array in ensemble:\n",
    "        magnetization = calculate_total_magnetization(array)\n",
    "        length = len(array)\n",
    "        entropy = calculate_microstate_entropy(magnetization, length)\n",
    "        total_entropy += entropy\n",
    "    return total_entropy\n",
    "\n",
    "length = 2\n",
    "N = 2\n",
    "spins_matrix = generate_N_1d_spin_up_arrays(N, length)\n",
    "print(spins_matrix)\n",
    "print(calculate_ensemble_entropy(spins_matrix))"
   ]
  },
  {
   "cell_type": "markdown",
   "metadata": {},
   "source": [
    "### Task 2.8 - Ensemble Time Evolution \n",
    "\n",
    "Here we will implement the ensemble time evolution. \n",
    "\n",
    "The system start at an initial configuration (here we will choose a spin up only array as our initial configuration), for each step of the simulation we will change the system using the function defined in Task 2.3"
   ]
  },
  {
   "cell_type": "code",
   "execution_count": 13,
   "metadata": {},
   "outputs": [
    {
     "data": {
      "image/png": "[encoded data removed]",
      "text/plain": [
       "<Figure size 640x480 with 2 Axes>"
      ]
     },
     "metadata": {},
     "output_type": "display_data"
    }
   ],
   "source": [
    "# Set simulation parameters (Time ,unit step and array length i.e time = 100 sec, dt = 1 sec, length = 10, N=100 ...)\n",
    "simulation_time = 10\n",
    "dt = 0.1\n",
    "length = 10\n",
    "N = 50\n",
    "\n",
    "# Calculate the amount of steps\n",
    "steps = int(simulation_time/dt)\n",
    "\n",
    "#Create an array of all the timesteps of the simulation\n",
    "time_array = np.arange(steps)\n",
    "\n",
    "#Generate the initial ensemble (N 1d spin up arrays)\n",
    "spins_matrix = generate_N_1d_spin_up_arrays(N, length)\n",
    "\n",
    "#Advance the system in time and for each new configuration calculate and save the magnetization and entropy.\n",
    "magnetization_per_time = []\n",
    "entropy_per_time = []\n",
    "for t in time_array:\n",
    "    magnetization_per_time.append(calculate_average_magnetization(spins_matrix))\n",
    "    entropy = calculate_ensemble_entropy(spins_matrix)\n",
    "    entropy_per_time.append(entropy)\n",
    "    spins_matrix = flip_spin_randomly_ensemble(spins_matrix)\n",
    "\n",
    "fig, ax1 = plt.subplots()\n",
    "\n",
    "#Plot the magnetization over time and the average magnetization\n",
    "color = 'tab:red'\n",
    "ax1.plot(time_array*dt, magnetization_per_time, c=color)\n",
    "ax1.axhline(np.mean(magnetization_per_time), c='Orange', linestyle='--', label='Mean')\n",
    "ax1.set_xlabel(\"Time [s]\")\n",
    "ax1.set_ylabel(\"Magnetization\", c=color)\n",
    "\n",
    "#Plot the entropy over time and the entropy of the ground state (assume even number of spins)\n",
    "color = 'tab:blue'\n",
    "ax2 = ax1.twinx()\n",
    "ax2.axhline(N*calculate_microstate_entropy(0, length), c='Green', linestyle='--', label='Entropy on Ground State')\n",
    "ax2.plot(time_array*dt, entropy_per_time,c=color)\n",
    "ax2.set_ylabel(\"Entropy\",c=color)\n",
    "\n",
    "fig.suptitle(\"Magnetization and Entropy by Time\")\n",
    "fig.legend(loc='upper center', bbox_to_anchor=(0.5, -0.001), ncol=2) \n",
    "plt.show()"
   ]
  }
 ],
 "metadata": {
  "kernelspec": {
   "display_name": "Python 3",
   "language": "python",
   "name": "python3"
  },
  "language_info": {
   "codemirror_mode": {
    "name": "ipython",
    "version": 3
   },
   "file_extension": ".py",
   "mimetype": "text/x-python",
   "name": "python",
   "nbconvert_exporter": "python",
   "pygments_lexer": "ipython3",
   "version": "3.13.0"
  }
 },
 "nbformat": 4,
 "nbformat_minor": 2
}
